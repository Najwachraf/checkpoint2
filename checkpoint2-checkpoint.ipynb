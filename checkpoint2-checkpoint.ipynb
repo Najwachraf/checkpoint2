{
 "cells": [
  {
   "cell_type": "markdown",
   "id": "2bfa2535",
   "metadata": {},
   "source": [
    "# Question 1"
   ]
  },
  {
   "cell_type": "code",
   "execution_count": 1,
   "id": "14a8db20",
   "metadata": {},
   "outputs": [
    {
     "name": "stdout",
     "output_type": "stream",
     "text": [
      "entrer votre Nom:\n",
      "entrer votre Prénom:\n",
      "Votre Nom Complet est:  \n"
     ]
    }
   ],
   "source": [
    "Nom = str (input (\"entrer votre Nom:\"))\n",
    "Prénom = str (input (\"entrer votre Prénom:\"))\n",
    "Np= Prénom+\" \"+Nom\n",
    "print (\"Votre Nom Complet est:\",Np)"
   ]
  },
  {
   "cell_type": "code",
   "execution_count": 2,
   "id": "a8c6c819",
   "metadata": {},
   "outputs": [
    {
     "data": {
      "text/plain": [
       "'Chraf Najwa'"
      ]
     },
     "execution_count": 2,
     "metadata": {},
     "output_type": "execute_result"
    }
   ],
   "source": [
    "def Nom (Nom,Prénom):\n",
    "    Np= Prénom+\" \"+Nom\n",
    "    return Np\n",
    "Nom(\"Najwa\",\"Chraf\")"
   ]
  },
  {
   "cell_type": "code",
   "execution_count": 9,
   "id": "acaf1d31",
   "metadata": {},
   "outputs": [
    {
     "name": "stdout",
     "output_type": "stream",
     "text": [
      "Entrer le Nom:chraf\n",
      "Entrer le Prénom:Najwa\n"
     ]
    },
    {
     "data": {
      "text/plain": [
       "'Najwa chraf'"
      ]
     },
     "execution_count": 9,
     "metadata": {},
     "output_type": "execute_result"
    }
   ],
   "source": [
    "def Nom (Nom,Prénom):\n",
    "    Np= Prénom+\" \"+Nom\n",
    "    return Np\n",
    "a=input (\"Entrer le Nom:\")\n",
    "b=input (\"Entrer le Prénom:\")\n",
    "Nom(a,b)"
   ]
  },
  {
   "cell_type": "markdown",
   "id": "4e840d22",
   "metadata": {},
   "source": [
    "# Question 2"
   ]
  },
  {
   "cell_type": "code",
   "execution_count": 4,
   "id": "a53cae6c",
   "metadata": {},
   "outputs": [
    {
     "data": {
      "text/plain": [
       "615"
      ]
     },
     "execution_count": 4,
     "metadata": {},
     "output_type": "execute_result"
    }
   ],
   "source": [
    "def Nombre (N):\n",
    "    result = N+N*11+N*111\n",
    "    return result\n",
    "Nombre(5)"
   ]
  },
  {
   "cell_type": "markdown",
   "id": "8b02321d",
   "metadata": {},
   "source": [
    "# Question 3"
   ]
  },
  {
   "cell_type": "code",
   "execution_count": 3,
   "id": "b891d4a7",
   "metadata": {},
   "outputs": [
    {
     "ename": "KeyboardInterrupt",
     "evalue": "Interrupted by user",
     "output_type": "error",
     "traceback": [
      "\u001b[1;31m---------------------------------------------------------------------------\u001b[0m",
      "\u001b[1;31mKeyboardInterrupt\u001b[0m                         Traceback (most recent call last)",
      "\u001b[1;32m<ipython-input-3-4e521d5e2419>\u001b[0m in \u001b[0;36m<module>\u001b[1;34m\u001b[0m\n\u001b[0;32m      6\u001b[0m         \u001b[0mprint\u001b[0m\u001b[1;33m(\u001b[0m\u001b[1;34m\" Le nombre entré est: Impair/Odd\"\u001b[0m\u001b[1;33m)\u001b[0m\u001b[1;33m\u001b[0m\u001b[1;33m\u001b[0m\u001b[0m\n\u001b[0;32m      7\u001b[0m     \u001b[1;32mreturn\u001b[0m \u001b[0mresult\u001b[0m\u001b[1;33m\u001b[0m\u001b[1;33m\u001b[0m\u001b[0m\n\u001b[1;32m----> 8\u001b[1;33m \u001b[0ma\u001b[0m\u001b[1;33m=\u001b[0m\u001b[0minput\u001b[0m\u001b[1;33m(\u001b[0m\u001b[1;34m\"entrez un nombre:\"\u001b[0m\u001b[1;33m)\u001b[0m\u001b[1;33m\u001b[0m\u001b[1;33m\u001b[0m\u001b[0m\n\u001b[0m\u001b[0;32m      9\u001b[0m \u001b[0mNombre2\u001b[0m\u001b[1;33m(\u001b[0m\u001b[0ma\u001b[0m\u001b[1;33m)\u001b[0m\u001b[1;33m\u001b[0m\u001b[1;33m\u001b[0m\u001b[0m\n",
      "\u001b[1;32m~\\anaconda3\\lib\\site-packages\\ipykernel\\kernelbase.py\u001b[0m in \u001b[0;36mraw_input\u001b[1;34m(self, prompt)\u001b[0m\n\u001b[0;32m    858\u001b[0m                 \u001b[1;34m\"raw_input was called, but this frontend does not support input requests.\"\u001b[0m\u001b[1;33m\u001b[0m\u001b[1;33m\u001b[0m\u001b[0m\n\u001b[0;32m    859\u001b[0m             )\n\u001b[1;32m--> 860\u001b[1;33m         return self._input_request(str(prompt),\n\u001b[0m\u001b[0;32m    861\u001b[0m             \u001b[0mself\u001b[0m\u001b[1;33m.\u001b[0m\u001b[0m_parent_ident\u001b[0m\u001b[1;33m,\u001b[0m\u001b[1;33m\u001b[0m\u001b[1;33m\u001b[0m\u001b[0m\n\u001b[0;32m    862\u001b[0m             \u001b[0mself\u001b[0m\u001b[1;33m.\u001b[0m\u001b[0m_parent_header\u001b[0m\u001b[1;33m,\u001b[0m\u001b[1;33m\u001b[0m\u001b[1;33m\u001b[0m\u001b[0m\n",
      "\u001b[1;32m~\\anaconda3\\lib\\site-packages\\ipykernel\\kernelbase.py\u001b[0m in \u001b[0;36m_input_request\u001b[1;34m(self, prompt, ident, parent, password)\u001b[0m\n\u001b[0;32m    902\u001b[0m             \u001b[1;32mexcept\u001b[0m \u001b[0mKeyboardInterrupt\u001b[0m\u001b[1;33m:\u001b[0m\u001b[1;33m\u001b[0m\u001b[1;33m\u001b[0m\u001b[0m\n\u001b[0;32m    903\u001b[0m                 \u001b[1;31m# re-raise KeyboardInterrupt, to truncate traceback\u001b[0m\u001b[1;33m\u001b[0m\u001b[1;33m\u001b[0m\u001b[1;33m\u001b[0m\u001b[0m\n\u001b[1;32m--> 904\u001b[1;33m                 \u001b[1;32mraise\u001b[0m \u001b[0mKeyboardInterrupt\u001b[0m\u001b[1;33m(\u001b[0m\u001b[1;34m\"Interrupted by user\"\u001b[0m\u001b[1;33m)\u001b[0m \u001b[1;32mfrom\u001b[0m \u001b[1;32mNone\u001b[0m\u001b[1;33m\u001b[0m\u001b[1;33m\u001b[0m\u001b[0m\n\u001b[0m\u001b[0;32m    905\u001b[0m             \u001b[1;32mexcept\u001b[0m \u001b[0mException\u001b[0m \u001b[1;32mas\u001b[0m \u001b[0me\u001b[0m\u001b[1;33m:\u001b[0m\u001b[1;33m\u001b[0m\u001b[1;33m\u001b[0m\u001b[0m\n\u001b[0;32m    906\u001b[0m                 \u001b[0mself\u001b[0m\u001b[1;33m.\u001b[0m\u001b[0mlog\u001b[0m\u001b[1;33m.\u001b[0m\u001b[0mwarning\u001b[0m\u001b[1;33m(\u001b[0m\u001b[1;34m\"Invalid Message:\"\u001b[0m\u001b[1;33m,\u001b[0m \u001b[0mexc_info\u001b[0m\u001b[1;33m=\u001b[0m\u001b[1;32mTrue\u001b[0m\u001b[1;33m)\u001b[0m\u001b[1;33m\u001b[0m\u001b[1;33m\u001b[0m\u001b[0m\n",
      "\u001b[1;31mKeyboardInterrupt\u001b[0m: Interrupted by user"
     ]
    }
   ],
   "source": [
    "def Nombre2(N): \n",
    "    result = N % 2 \n",
    "    if result==0:\n",
    "        print(\"Le nombre entré est: Pair/Even\")\n",
    "    else:    \n",
    "        print(\" Le nombre entré est: Impair/Odd\")\n",
    "    return result\n",
    "a=input(\"entrez un nombre:\")\n",
    "Nombre2(a)"
   ]
  },
  {
   "cell_type": "code",
   "execution_count": null,
   "id": "3e35e3df",
   "metadata": {},
   "outputs": [],
   "source": [
    "N = input( \" Entrez un nombre : \")\n",
    "if \"N%2 = 0\":\n",
    "    print(\"Le nombre entré est: Pair/Even\")\n",
    "else:    \n",
    "    print(\" Le nombre entré est: Impair/Odd\")"
   ]
  },
  {
   "cell_type": "markdown",
   "id": "f9b7a2e5",
   "metadata": {},
   "source": [
    "# Question 7"
   ]
  },
  {
   "cell_type": "code",
   "execution_count": 5,
   "id": "43337f7c",
   "metadata": {},
   "outputs": [
    {
     "ename": "SyntaxError",
     "evalue": "EOL while scanning string literal (<ipython-input-5-4eaa3c63dfa4>, line 3)",
     "output_type": "error",
     "traceback": [
      "\u001b[1;36m  File \u001b[1;32m\"<ipython-input-5-4eaa3c63dfa4>\"\u001b[1;36m, line \u001b[1;32m3\u001b[0m\n\u001b[1;33m    \"Prix*50%\u001b[0m\n\u001b[1;37m             ^\u001b[0m\n\u001b[1;31mSyntaxError\u001b[0m\u001b[1;31m:\u001b[0m EOL while scanning string literal\n"
     ]
    }
   ],
   "source": [
    "Prix=float(input(\"entrer le prix:\"))\n",
    "if Prix>=500:\n",
    "    \"Prix*50%\n",
    "    print(\"le prix est:\",Prix)\n",
    "elif Prix>=200 and Prix<=500:\n",
    "    \"Prix*30%\n",
    "    print(\"le prix est:\",Prix)\n",
    "else:\n",
    "    \"Prix*10%\n",
    "    print(\"le prix est:\",Prix)"
   ]
  },
  {
   "cell_type": "markdown",
   "id": "879f748a",
   "metadata": {},
   "source": [
    "# Question 6"
   ]
  },
  {
   "cell_type": "code",
   "execution_count": 19,
   "id": "d612d394",
   "metadata": {},
   "outputs": [
    {
     "name": "stdout",
     "output_type": "stream",
     "text": [
      "hlota\n"
     ]
    }
   ],
   "source": [
    "def index(s):\n",
    "    n = len(s)\n",
    "    s2=\"\"\n",
    "    \n",
    "    for i in range(0, n):\n",
    "        if  ( i%2 == 0): \n",
    "            s2 = s2+s[i]\n",
    "        else:\n",
    "            s2 = s2 \n",
    "    return s2\n",
    "s=\"hello team\"\n",
    "print(index(s))"
   ]
  },
  {
   "cell_type": "code",
   "execution_count": null,
   "id": "e06d17d7",
   "metadata": {},
   "outputs": [],
   "source": []
  },
  {
   "cell_type": "markdown",
   "id": "7397cc80",
   "metadata": {},
   "source": [
    "# Question 5"
   ]
  },
  {
   "cell_type": "code",
   "execution_count": 20,
   "id": "319bc22e",
   "metadata": {},
   "outputs": [
    {
     "name": "stdout",
     "output_type": "stream",
     "text": [
      "taper la valeur de n:8\n",
      "Factorielle de  8 est; 40320\n"
     ]
    }
   ],
   "source": [
    "facto=1\n",
    "n=int(input(\"taper la valeur de n:\"))\n",
    "for i in range(1,n+1):\n",
    "    facto = facto*i\n",
    "print(\"Factorielle de \",n,\"est;\",facto)"
   ]
  },
  {
   "cell_type": "code",
   "execution_count": null,
   "id": "9aa2db7d",
   "metadata": {},
   "outputs": [],
   "source": []
  }
 ],
 "metadata": {
  "kernelspec": {
   "display_name": "Python 3",
   "language": "python",
   "name": "python3"
  },
  "language_info": {
   "codemirror_mode": {
    "name": "ipython",
    "version": 3
   },
   "file_extension": ".py",
   "mimetype": "text/x-python",
   "name": "python",
   "nbconvert_exporter": "python",
   "pygments_lexer": "ipython3",
   "version": "3.8.8"
  }
 },
 "nbformat": 4,
 "nbformat_minor": 5
}
